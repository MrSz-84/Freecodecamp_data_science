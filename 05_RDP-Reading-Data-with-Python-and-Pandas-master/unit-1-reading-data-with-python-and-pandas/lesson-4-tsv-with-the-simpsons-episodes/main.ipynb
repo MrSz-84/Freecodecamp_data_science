{
 "cells": [
  {
   "cell_type": "code",
   "execution_count": 1,
   "id": "38a1db1e-10b0-4eb2-bd51-e83c9a665837",
   "metadata": {
    "tags": []
   },
   "outputs": [],
   "source": [
    "import numpy as np\n",
    "import pandas as pd"
   ]
  },
  {
   "cell_type": "code",
   "execution_count": 2,
   "id": "f056d5f7-2ef6-43d8-bb5e-30df242d2be0",
   "metadata": {
    "tags": []
   },
   "outputs": [],
   "source": [
    "col_names = ['Title', 'Air date', 'Production code', 'Season', 'Number in season',\n",
    "             'Number in series', 'US viewers (million)', 'Views', 'IMDB rating']"
   ]
  },
  {
   "cell_type": "code",
   "execution_count": 3,
   "id": "8f9ebe36-ef69-430e-9ed9-28285ed6bbc2",
   "metadata": {
    "tags": []
   },
   "outputs": [],
   "source": [
    "path = 'files/simpsons-episodes.tsv'"
   ]
  },
  {
   "cell_type": "code",
   "execution_count": 9,
   "id": "4b0d2e04-a024-4ed8-b893-cbbb1c3b337a",
   "metadata": {
    "tags": []
   },
   "outputs": [],
   "source": [
    "df = pd.read_csv(path, delimiter='\\t', \n",
    "                 skiprows=4, \n",
    "                 header=None, \n",
    "                 names=col_names, \n",
    "                 usecols=['Title', 'Air date', 'Production code', 'IMDB rating'],\n",
    "                 na_values='no_val',\n",
    "                 index_col='Production code',\n",
    "                 encoding='UTF-8'\n",
    "           )"
   ]
  },
  {
   "cell_type": "code",
   "execution_count": 10,
   "id": "77b957d8-68f2-4ce8-9abb-e9fc6bc0e433",
   "metadata": {
    "tags": []
   },
   "outputs": [],
   "source": [
    "df['Air date'] = pd.to_datetime(df['Air date'])"
   ]
  },
  {
   "cell_type": "code",
   "execution_count": 11,
   "id": "c7ad0fbf-a956-4b30-a5ae-9a1bbe71bbf4",
   "metadata": {
    "tags": []
   },
   "outputs": [
    {
     "data": {
      "text/html": [
       "<div>\n",
       "<style scoped>\n",
       "    .dataframe tbody tr th:only-of-type {\n",
       "        vertical-align: middle;\n",
       "    }\n",
       "\n",
       "    .dataframe tbody tr th {\n",
       "        vertical-align: top;\n",
       "    }\n",
       "\n",
       "    .dataframe thead th {\n",
       "        text-align: right;\n",
       "    }\n",
       "</style>\n",
       "<table border=\"1\" class=\"dataframe\">\n",
       "  <thead>\n",
       "    <tr style=\"text-align: right;\">\n",
       "      <th></th>\n",
       "      <th>Title</th>\n",
       "      <th>Air date</th>\n",
       "      <th>IMDB rating</th>\n",
       "    </tr>\n",
       "    <tr>\n",
       "      <th>Production code</th>\n",
       "      <th></th>\n",
       "      <th></th>\n",
       "      <th></th>\n",
       "    </tr>\n",
       "  </thead>\n",
       "  <tbody>\n",
       "    <tr>\n",
       "      <th>7F01</th>\n",
       "      <td>Two Cars in Every Garage and Three Eyes on Eve...</td>\n",
       "      <td>1990-01-11</td>\n",
       "      <td>8.1</td>\n",
       "    </tr>\n",
       "    <tr>\n",
       "      <th>7F08</th>\n",
       "      <td>NaN</td>\n",
       "      <td>1990-11-15</td>\n",
       "      <td>8.0</td>\n",
       "    </tr>\n",
       "    <tr>\n",
       "      <th>7F06</th>\n",
       "      <td>Bart the Daredevil</td>\n",
       "      <td>1990-06-12</td>\n",
       "      <td>NaN</td>\n",
       "    </tr>\n",
       "    <tr>\n",
       "      <th>NaN</th>\n",
       "      <td>Bart Gets Hit by a Car</td>\n",
       "      <td>1991-10-01</td>\n",
       "      <td>7.8</td>\n",
       "    </tr>\n",
       "    <tr>\n",
       "      <th>7F13</th>\n",
       "      <td>Homer vs. Lisa and the 8th Commandment</td>\n",
       "      <td>1991-07-02</td>\n",
       "      <td>8.0</td>\n",
       "    </tr>\n",
       "  </tbody>\n",
       "</table>\n",
       "</div>"
      ],
      "text/plain": [
       "                                                             Title   Air date  \\\n",
       "Production code                                                                 \n",
       "7F01             Two Cars in Every Garage and Three Eyes on Eve... 1990-01-11   \n",
       "7F08                                                           NaN 1990-11-15   \n",
       "7F06                                            Bart the Daredevil 1990-06-12   \n",
       "NaN                                         Bart Gets Hit by a Car 1991-10-01   \n",
       "7F13                        Homer vs. Lisa and the 8th Commandment 1991-07-02   \n",
       "\n",
       "                 IMDB rating  \n",
       "Production code               \n",
       "7F01                     8.1  \n",
       "7F08                     8.0  \n",
       "7F06                     NaN  \n",
       "NaN                      7.8  \n",
       "7F13                     8.0  "
      ]
     },
     "execution_count": 11,
     "metadata": {},
     "output_type": "execute_result"
    }
   ],
   "source": [
    "df.head()"
   ]
  },
  {
   "cell_type": "code",
   "execution_count": 12,
   "id": "3accb04a-3381-4d38-b7b0-0ab099c62a7b",
   "metadata": {
    "tags": []
   },
   "outputs": [
    {
     "name": "stdout",
     "output_type": "stream",
     "text": [
      "<class 'pandas.core.frame.DataFrame'>\n",
      "Index: 597 entries, 7F01 to SABF13\n",
      "Data columns (total 3 columns):\n",
      " #   Column       Non-Null Count  Dtype         \n",
      "---  ------       --------------  -----         \n",
      " 0   Title        575 non-null    object        \n",
      " 1   Air date     597 non-null    datetime64[ns]\n",
      " 2   IMDB rating  592 non-null    float64       \n",
      "dtypes: datetime64[ns](1), float64(1), object(1)\n",
      "memory usage: 18.7+ KB\n"
     ]
    }
   ],
   "source": [
    "df.info()"
   ]
  },
  {
   "cell_type": "code",
   "execution_count": 13,
   "id": "73f20f08-fa7c-43e0-b66f-127351706254",
   "metadata": {
    "tags": []
   },
   "outputs": [
    {
     "data": {
      "text/plain": [
       "(597, 3)"
      ]
     },
     "execution_count": 13,
     "metadata": {},
     "output_type": "execute_result"
    }
   ],
   "source": [
    "df.shape"
   ]
  },
  {
   "cell_type": "code",
   "execution_count": null,
   "id": "209d7694-c9ca-4370-92b2-56e832fa811a",
   "metadata": {},
   "outputs": [],
   "source": []
  },
  {
   "cell_type": "code",
   "execution_count": null,
   "id": "bbbafb31-72bf-421e-8b76-71a950472967",
   "metadata": {},
   "outputs": [],
   "source": []
  },
  {
   "cell_type": "code",
   "execution_count": null,
   "id": "cc8b4e32-9fc6-4ddc-8869-7d22d86bdf7a",
   "metadata": {},
   "outputs": [],
   "source": []
  }
 ],
 "metadata": {
  "kernelspec": {
   "display_name": "Python 3 (ipykernel)",
   "language": "python",
   "name": "python3"
  },
  "language_info": {
   "codemirror_mode": {
    "name": "ipython",
    "version": 3
   },
   "file_extension": ".py",
   "mimetype": "text/x-python",
   "name": "python",
   "nbconvert_exporter": "python",
   "pygments_lexer": "ipython3",
   "version": "3.11.3"
  }
 },
 "nbformat": 4,
 "nbformat_minor": 5
}
