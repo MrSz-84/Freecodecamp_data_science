{
 "cells": [
  {
   "cell_type": "code",
   "execution_count": 1,
   "id": "435352be-9fc8-476c-b2da-651459bbfb12",
   "metadata": {
    "tags": []
   },
   "outputs": [],
   "source": [
    "import numpy as np\n",
    "import pandas as pd\n",
    "import sqlite3"
   ]
  },
  {
   "cell_type": "code",
   "execution_count": 2,
   "id": "6eee10c2-5da8-4098-a4ce-dffd75b52c42",
   "metadata": {
    "tags": []
   },
   "outputs": [],
   "source": [
    "conn = sqlite3.connect(':memory:')"
   ]
  },
  {
   "cell_type": "code",
   "execution_count": 3,
   "id": "f4afbc85-2aa0-45c3-a33a-000f4edeb44c",
   "metadata": {
    "tags": []
   },
   "outputs": [],
   "source": [
    "c = conn.cursor()"
   ]
  },
  {
   "cell_type": "code",
   "execution_count": 5,
   "id": "8d95cea2-9960-44c8-8d58-3ab2b2b69814",
   "metadata": {
    "tags": []
   },
   "outputs": [
    {
     "data": {
      "text/plain": [
       "<sqlite3.Cursor at 0x1b73e12a840>"
      ]
     },
     "execution_count": 5,
     "metadata": {},
     "output_type": "execute_result"
    }
   ],
   "source": [
    "c.executescript(open('files/van_crime_2003.sql', 'r').read())"
   ]
  },
  {
   "cell_type": "code",
   "execution_count": 13,
   "id": "fe5be02a-a42c-435b-afab-52ad21811f3b",
   "metadata": {
    "tags": []
   },
   "outputs": [],
   "source": [
    "van_crimes_df = pd.read_sql('SELECT TYPE, MONTH, DAY, NEIGHBOURHOOD FROM van_crimes WHERE NEIGHBOURHOOD==\"Stanley Park\" OR NEIGHBOURHOOD==\"West End\"', conn)"
   ]
  },
  {
   "cell_type": "code",
   "execution_count": 14,
   "id": "81aaec71-dbee-4446-8dce-1228d35b7515",
   "metadata": {
    "tags": []
   },
   "outputs": [
    {
     "data": {
      "text/html": [
       "<div>\n",
       "<style scoped>\n",
       "    .dataframe tbody tr th:only-of-type {\n",
       "        vertical-align: middle;\n",
       "    }\n",
       "\n",
       "    .dataframe tbody tr th {\n",
       "        vertical-align: top;\n",
       "    }\n",
       "\n",
       "    .dataframe thead th {\n",
       "        text-align: right;\n",
       "    }\n",
       "</style>\n",
       "<table border=\"1\" class=\"dataframe\">\n",
       "  <thead>\n",
       "    <tr style=\"text-align: right;\">\n",
       "      <th></th>\n",
       "      <th>TYPE</th>\n",
       "      <th>MONTH</th>\n",
       "      <th>DAY</th>\n",
       "      <th>NEIGHBOURHOOD</th>\n",
       "    </tr>\n",
       "  </thead>\n",
       "  <tbody>\n",
       "    <tr>\n",
       "      <th>0</th>\n",
       "      <td>Theft from Vehicle</td>\n",
       "      <td>12</td>\n",
       "      <td>30.0</td>\n",
       "      <td>Stanley Park</td>\n",
       "    </tr>\n",
       "    <tr>\n",
       "      <th>1</th>\n",
       "      <td>Theft from Vehicle</td>\n",
       "      <td>12</td>\n",
       "      <td>28.0</td>\n",
       "      <td>Stanley Park</td>\n",
       "    </tr>\n",
       "    <tr>\n",
       "      <th>2</th>\n",
       "      <td>Theft from Vehicle</td>\n",
       "      <td>12</td>\n",
       "      <td>12.0</td>\n",
       "      <td>Stanley Park</td>\n",
       "    </tr>\n",
       "    <tr>\n",
       "      <th>3</th>\n",
       "      <td>Theft from Vehicle</td>\n",
       "      <td>12</td>\n",
       "      <td>12.0</td>\n",
       "      <td>Stanley Park</td>\n",
       "    </tr>\n",
       "    <tr>\n",
       "      <th>4</th>\n",
       "      <td>Theft from Vehicle</td>\n",
       "      <td>11</td>\n",
       "      <td>5.0</td>\n",
       "      <td>Stanley Park</td>\n",
       "    </tr>\n",
       "    <tr>\n",
       "      <th>...</th>\n",
       "      <td>...</td>\n",
       "      <td>...</td>\n",
       "      <td>...</td>\n",
       "      <td>...</td>\n",
       "    </tr>\n",
       "    <tr>\n",
       "      <th>59</th>\n",
       "      <td>Break and Enter Residential/Other</td>\n",
       "      <td>1</td>\n",
       "      <td>23.0</td>\n",
       "      <td>West End</td>\n",
       "    </tr>\n",
       "    <tr>\n",
       "      <th>60</th>\n",
       "      <td>Break and Enter Residential/Other</td>\n",
       "      <td>2</td>\n",
       "      <td>2.0</td>\n",
       "      <td>West End</td>\n",
       "    </tr>\n",
       "    <tr>\n",
       "      <th>61</th>\n",
       "      <td>Break and Enter Residential/Other</td>\n",
       "      <td>2</td>\n",
       "      <td>12.0</td>\n",
       "      <td>West End</td>\n",
       "    </tr>\n",
       "    <tr>\n",
       "      <th>62</th>\n",
       "      <td>Break and Enter Residential/Other</td>\n",
       "      <td>2</td>\n",
       "      <td>15.0</td>\n",
       "      <td>West End</td>\n",
       "    </tr>\n",
       "    <tr>\n",
       "      <th>63</th>\n",
       "      <td>Break and Enter Residential/Other</td>\n",
       "      <td>6</td>\n",
       "      <td>11.0</td>\n",
       "      <td>West End</td>\n",
       "    </tr>\n",
       "  </tbody>\n",
       "</table>\n",
       "<p>64 rows × 4 columns</p>\n",
       "</div>"
      ],
      "text/plain": [
       "                                 TYPE  MONTH   DAY NEIGHBOURHOOD\n",
       "0                  Theft from Vehicle     12  30.0  Stanley Park\n",
       "1                  Theft from Vehicle     12  28.0  Stanley Park\n",
       "2                  Theft from Vehicle     12  12.0  Stanley Park\n",
       "3                  Theft from Vehicle     12  12.0  Stanley Park\n",
       "4                  Theft from Vehicle     11   5.0  Stanley Park\n",
       "..                                ...    ...   ...           ...\n",
       "59  Break and Enter Residential/Other      1  23.0      West End\n",
       "60  Break and Enter Residential/Other      2   2.0      West End\n",
       "61  Break and Enter Residential/Other      2  12.0      West End\n",
       "62  Break and Enter Residential/Other      2  15.0      West End\n",
       "63  Break and Enter Residential/Other      6  11.0      West End\n",
       "\n",
       "[64 rows x 4 columns]"
      ]
     },
     "execution_count": 14,
     "metadata": {},
     "output_type": "execute_result"
    }
   ],
   "source": [
    "van_crimes_df"
   ]
  },
  {
   "cell_type": "code",
   "execution_count": 22,
   "id": "7efe8564-52c5-42e7-8b90-80aa45584402",
   "metadata": {
    "tags": []
   },
   "outputs": [
    {
     "data": {
      "text/plain": [
       "Theft from Vehicle                   31\n",
       "Break and Enter Residential/Other    15\n",
       "Theft of Vehicle                     11\n",
       "Mischief                              7\n",
       "Name: TYPE, dtype: int64"
      ]
     },
     "execution_count": 22,
     "metadata": {},
     "output_type": "execute_result"
    }
   ],
   "source": [
    "crime_types_count = van_crimes_df['TYPE'].value_counts()\n",
    "crime_types_count"
   ]
  },
  {
   "cell_type": "code",
   "execution_count": null,
   "id": "1b942a97-9116-4a92-989f-08b48c81a874",
   "metadata": {},
   "outputs": [],
   "source": []
  }
 ],
 "metadata": {
  "kernelspec": {
   "display_name": "Python 3 (ipykernel)",
   "language": "python",
   "name": "python3"
  },
  "language_info": {
   "codemirror_mode": {
    "name": "ipython",
    "version": 3
   },
   "file_extension": ".py",
   "mimetype": "text/x-python",
   "name": "python",
   "nbconvert_exporter": "python",
   "pygments_lexer": "ipython3",
   "version": "3.11.3"
  }
 },
 "nbformat": 4,
 "nbformat_minor": 5
}
