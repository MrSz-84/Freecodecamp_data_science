{
 "cells": [
  {
   "cell_type": "code",
   "execution_count": 1,
   "id": "edfecbb2-28fc-4662-af21-4b0e6d4ef5df",
   "metadata": {
    "tags": []
   },
   "outputs": [],
   "source": [
    "import numpy as np\n",
    "import pandas as pd\n",
    "import sqlite3"
   ]
  },
  {
   "cell_type": "code",
   "execution_count": 2,
   "id": "4997d281-544e-40d4-8c7d-e459e2ed1542",
   "metadata": {
    "tags": []
   },
   "outputs": [],
   "source": [
    "conn = sqlite3.connect(':memory:')"
   ]
  },
  {
   "cell_type": "code",
   "execution_count": 3,
   "id": "c4c81763-92a5-42be-b097-ee5193eb1566",
   "metadata": {
    "tags": []
   },
   "outputs": [],
   "source": [
    "c = conn.cursor()"
   ]
  },
  {
   "cell_type": "code",
   "execution_count": 4,
   "id": "ce45ba4b-179a-42c2-bf85-a7ba23ee6a96",
   "metadata": {
    "tags": []
   },
   "outputs": [
    {
     "data": {
      "text/plain": [
       "<sqlite3.Cursor at 0x1b6bc6fa840>"
      ]
     },
     "execution_count": 4,
     "metadata": {},
     "output_type": "execute_result"
    }
   ],
   "source": [
    "c.executescript(open('files/cryptos.sql', 'r').read())"
   ]
  },
  {
   "cell_type": "code",
   "execution_count": 29,
   "id": "c5150d20-f24b-4558-9f50-c4ccf1ac798d",
   "metadata": {
    "tags": []
   },
   "outputs": [
    {
     "data": {
      "text/html": [
       "<div>\n",
       "<style scoped>\n",
       "    .dataframe tbody tr th:only-of-type {\n",
       "        vertical-align: middle;\n",
       "    }\n",
       "\n",
       "    .dataframe tbody tr th {\n",
       "        vertical-align: top;\n",
       "    }\n",
       "\n",
       "    .dataframe thead th {\n",
       "        text-align: right;\n",
       "    }\n",
       "</style>\n",
       "<table border=\"1\" class=\"dataframe\">\n",
       "  <thead>\n",
       "    <tr style=\"text-align: right;\">\n",
       "      <th></th>\n",
       "      <th>id</th>\n",
       "      <th>coin_name</th>\n",
       "      <th>exchange</th>\n",
       "      <th>symbol</th>\n",
       "      <th>price_usd</th>\n",
       "      <th>percent_change_7d</th>\n",
       "    </tr>\n",
       "  </thead>\n",
       "  <tbody>\n",
       "    <tr>\n",
       "      <th>0</th>\n",
       "      <td>1</td>\n",
       "      <td>Bitcoin</td>\n",
       "      <td>Bitstamp</td>\n",
       "      <td>BTC</td>\n",
       "      <td>8707.37</td>\n",
       "      <td>-5.91</td>\n",
       "    </tr>\n",
       "    <tr>\n",
       "      <th>1</th>\n",
       "      <td>2</td>\n",
       "      <td>Ethereum</td>\n",
       "      <td>Poloniex</td>\n",
       "      <td>ETH</td>\n",
       "      <td>186.50</td>\n",
       "      <td>-0.66</td>\n",
       "    </tr>\n",
       "    <tr>\n",
       "      <th>2</th>\n",
       "      <td>3</td>\n",
       "      <td>XRP</td>\n",
       "      <td>Binance</td>\n",
       "      <td>XRP</td>\n",
       "      <td>0.27</td>\n",
       "      <td>-8.22</td>\n",
       "    </tr>\n",
       "    <tr>\n",
       "      <th>3</th>\n",
       "      <td>4</td>\n",
       "      <td>Bitcoin Cash</td>\n",
       "      <td>OKEx</td>\n",
       "      <td>BCH</td>\n",
       "      <td>278.92</td>\n",
       "      <td>-4.76</td>\n",
       "    </tr>\n",
       "  </tbody>\n",
       "</table>\n",
       "</div>"
      ],
      "text/plain": [
       "   id     coin_name  exchange symbol  price_usd  percent_change_7d\n",
       "0   1       Bitcoin  Bitstamp    BTC    8707.37              -5.91\n",
       "1   2      Ethereum  Poloniex    ETH     186.50              -0.66\n",
       "2   3           XRP   Binance    XRP       0.27              -8.22\n",
       "3   4  Bitcoin Cash      OKEx    BCH     278.92              -4.76"
      ]
     },
     "execution_count": 29,
     "metadata": {},
     "output_type": "execute_result"
    }
   ],
   "source": [
    "crypto_df = pd.read_sql('''SELECT id, \n",
    "                    cryptocoins_cryptocurrency.name AS coin_name, \n",
    "                    cryptocoins_exchange.name AS exchange,\n",
    "                    symbol,\n",
    "                    price_usd,\n",
    "                    percent_change_7d\n",
    "                    FROM cryptocoins_cryptocurrency \n",
    "                    INNER JOIN cryptocoins_exchange USING(id)''', \n",
    "                 conn\n",
    "                )\n",
    "\n",
    "crypto_df"
   ]
  },
  {
   "cell_type": "code",
   "execution_count": 31,
   "id": "0f874a86-51d8-4f2d-b9fc-e924f8ac4238",
   "metadata": {
    "tags": []
   },
   "outputs": [
    {
     "data": {
      "text/plain": [
       "1   -0.66\n",
       "3   -4.76\n",
       "0   -5.91\n",
       "2   -8.22\n",
       "Name: percent_change_7d, dtype: float64"
      ]
     },
     "execution_count": 31,
     "metadata": {},
     "output_type": "execute_result"
    }
   ],
   "source": [
    "weekly_change_df = crypto_df['percent_change_7d'].sort_values(ascending=False)\n",
    "weekly_change_df"
   ]
  },
  {
   "cell_type": "code",
   "execution_count": null,
   "id": "6cd6b657-ca64-4b73-8f9e-0a60908de643",
   "metadata": {},
   "outputs": [],
   "source": []
  }
 ],
 "metadata": {
  "kernelspec": {
   "display_name": "Python 3 (ipykernel)",
   "language": "python",
   "name": "python3"
  },
  "language_info": {
   "codemirror_mode": {
    "name": "ipython",
    "version": 3
   },
   "file_extension": ".py",
   "mimetype": "text/x-python",
   "name": "python",
   "nbconvert_exporter": "python",
   "pygments_lexer": "ipython3",
   "version": "3.11.3"
  }
 },
 "nbformat": 4,
 "nbformat_minor": 5
}
